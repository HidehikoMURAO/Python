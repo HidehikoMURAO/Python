{
 "cells": [
  {
   "cell_type": "markdown",
   "metadata": {},
   "source": [
    "# 最小二乗法"
   ]
  },
  {
   "cell_type": "code",
   "execution_count": null,
   "metadata": {},
   "outputs": [],
   "source": [
    "import numpy as np               \n",
    "import matplotlib.pyplot as plt  \n",
    "import pandas as pd\n",
    "import statsmodels.api as sm"
   ]
  },
  {
   "cell_type": "code",
   "execution_count": null,
   "metadata": {},
   "outputs": [],
   "source": [
    "# データ読込み\n",
    "UN = np.array(pd.read_csv('data/UN.csv').values[:,1:3]).astype('float64')\n",
    "UN.shape  # データ行列のサイズ"
   ]
  },
  {
   "cell_type": "code",
   "execution_count": null,
   "metadata": {},
   "outputs": [],
   "source": [
    "UN = UN[~np.isnan(UN).any(axis=1),:]  # nanを含むデータを除く\n",
    "UN.shape  # nanを除いたデータ行列のサイズ"
   ]
  },
  {
   "cell_type": "code",
   "execution_count": null,
   "metadata": {},
   "outputs": [],
   "source": [
    "logUN = np.log(UN)           # データを対数で変換\n",
    "# データ\n",
    "x = logUN[:,1].reshape(-1,1); y = logUN[:,0] \n",
    "xc = sm.add_constant(x)      # 定数項に対応する列を加える\n",
    "lf = sm.OLS(y,xc).fit()      # 最小二乗法\n",
    "lf.params                    # 推定された定数項と係数"
   ]
  },
  {
   "cell_type": "code",
   "execution_count": null,
   "metadata": {},
   "outputs": [],
   "source": [
    "lf.summary2()"
   ]
  },
  {
   "cell_type": "code",
   "execution_count": null,
   "metadata": {},
   "outputs": [],
   "source": [
    "tx = np.linspace(x.min(),x.max(),100).reshape(-1,1) # 予測点の生成\n",
    "txc = sm.add_constant(tx)                           \n",
    "py = lf.predict(txc)                                # 予測値\n",
    "plt.xlabel('GDP'); plt.ylabel('infant.mortality')\n",
    "plt.xscale(\"log\"); plt.yscale(\"log\")\n",
    "plt.scatter(UN[:,1],UN[:,0], s=10, c='blue')        # データ点のプロット\n",
    "plt.plot(np.exp(tx),np.exp(py),'r-',lw=3)           # 予測結果のプロット\n",
    "plt.show()"
   ]
  },
  {
   "cell_type": "code",
   "execution_count": null,
   "metadata": {},
   "outputs": [],
   "source": []
  }
 ],
 "metadata": {
  "@webio": {
   "lastCommId": null,
   "lastKernelId": null
  },
  "kernelspec": {
   "display_name": "Python 3",
   "language": "python",
   "name": "python3"
  },
  "language_info": {
   "codemirror_mode": {
    "name": "ipython",
    "version": 3
   },
   "file_extension": ".py",
   "mimetype": "text/x-python",
   "name": "python",
   "nbconvert_exporter": "python",
   "pygments_lexer": "ipython3",
   "version": "3.6.8"
  }
 },
 "nbformat": 4,
 "nbformat_minor": 2
}
