{
 "cells": [
  {
   "cell_type": "markdown",
   "metadata": {},
   "source": [
    "# PCA (Principal Component Analysis)"
   ]
  },
  {
   "cell_type": "code",
   "execution_count": 1,
   "metadata": {},
   "outputs": [],
   "source": [
    "import numpy as np               \n",
    "import matplotlib.pyplot as plt  \n",
    "import pandas as pd"
   ]
  },
  {
   "cell_type": "markdown",
   "metadata": {},
   "source": [
    "主成分分析を行うには scikit-learn パッケージを使用して，sklearn.decomposition の PCA でインスタンスを生成します．\n",
    "\n",
    "以下の例では，Davis データを用いて主成分分析を行っています．\n",
    "\n",
    "Davisデータ（Davis.csv）はJupyter Notebookの保存されているディレクトリと同じディレクトリに保存されているものとします．\n",
    "\n",
    "Davisデータの読み込みには pandas パッケージの pd.read_csv を使用します．\n",
    "\n",
    "データ配列の第1, 2列の各行がデータ点${\\bf{x_{i}}} = ( w_{i}, h_{i} )$に対応しています（$x_{i}$は$i$番目の人の体重[kg]，$h_{i}$は身長[cm]に対応）．"
   ]
  },
  {
   "cell_type": "code",
   "execution_count": 2,
   "metadata": {
    "scrolled": true
   },
   "outputs": [
    {
     "data": {
      "image/png": "[encoded data removed]",
      "text/plain": [
       "<Figure size 432x288 with 1 Axes>"
      ]
     },
     "metadata": {
      "needs_background": "light"
     },
     "output_type": "display_data"
    }
   ],
   "source": [
    "from sklearn.decomposition import PCA         # Use sklearn's PCA．\n",
    "dat = pd.read_csv('data/Davis.csv').values    # Read data (use pandas)\n",
    "# Convert the unit of height to [m] and calculate the value of logarithm.\n",
    "logdat = np.log(np.c_[dat[:,1],dat[:,2]/100].astype('float'))\n",
    "# Plot data\n",
    "plt.plot(logdat[:,0], logdat[:,1], '.'); plt.show()"
   ]
  },
  {
   "cell_type": "code",
   "execution_count": 3,
   "metadata": {},
   "outputs": [
    {
     "data": {
      "text/plain": [
       "array([[ 0.99672116,  0.08091309],\n",
       "       [ 0.08091309, -0.99672116]])"
      ]
     },
     "execution_count": 3,
     "metadata": {},
     "output_type": "execute_result"
    }
   ],
   "source": [
    "# PCA of data\n",
    "pca = PCA()    \n",
    "pca.fit(logdat) \n",
    "pca.components_       # Principal component"
   ]
  },
  {
   "cell_type": "code",
   "execution_count": 4,
   "metadata": {},
   "outputs": [
    {
     "data": {
      "text/plain": [
       "array([[ 0.97754866,  0.21070979],\n",
       "       [-0.21070979,  0.97754866]])"
      ]
     },
     "execution_count": 4,
     "metadata": {},
     "output_type": "execute_result"
    }
   ],
   "source": [
    "# Data at index 11 are removed as outliers.\n",
    "clean_logdat = np.delete(logdat, 11, axis=0)\n",
    "\n",
    "# Principal component analysis of data from which outliers have been removed\n",
    "pca = PCA()    \n",
    "pca.fit(clean_logdat) \n",
    "pca.components_       # Principal component"
   ]
  },
  {
   "cell_type": "markdown",
   "metadata": {},
   "source": [
    "# 因子分析"
   ]
  },
  {
   "cell_type": "code",
   "execution_count": 5,
   "metadata": {},
   "outputs": [],
   "source": [
    "import numpy as np\n",
    "from sklearn.datasets import load_boston  # BostonHousing を使う\n",
    "BostonHousing = load_boston()             # データ読み込み"
   ]
  },
  {
   "cell_type": "code",
   "execution_count": 6,
   "metadata": {},
   "outputs": [],
   "source": [
    "from sklearn.decomposition import FactorAnalysis\n",
    "from sklearn.preprocessing import scale\n",
    "X = scale(BostonHousing.data)  # データのスケーリング(相関行列に因子分解を適用)"
   ]
  },
  {
   "cell_type": "code",
   "execution_count": 7,
   "metadata": {},
   "outputs": [
    {
     "data": {
      "text/plain": [
       "(506, 13)"
      ]
     },
     "execution_count": 7,
     "metadata": {},
     "output_type": "execute_result"
    }
   ],
   "source": [
    "X.shape                        # データ行列のサイズ：13次元506サンプル"
   ]
  },
  {
   "cell_type": "code",
   "execution_count": 8,
   "metadata": {},
   "outputs": [],
   "source": [
    "fa = FactorAnalysis(n_components=3)   # 因子数3で推定\n",
    "rX = fa.fit_transform(X)              # 因子スコア"
   ]
  },
  {
   "cell_type": "code",
   "execution_count": 9,
   "metadata": {},
   "outputs": [
    {
     "data": {
      "text/plain": [
       "(506, 3)"
      ]
     },
     "execution_count": 9,
     "metadata": {},
     "output_type": "execute_result"
    }
   ],
   "source": [
    "rX.shape"
   ]
  },
  {
   "cell_type": "code",
   "execution_count": 10,
   "metadata": {},
   "outputs": [
    {
     "data": {
      "text/plain": [
       "array([[ 0.6121372 , -0.4957598 ,  0.81341902,  0.00512797,  0.80406482,\n",
       "        -0.3737183 ,  0.67562989, -0.71558151,  0.88828641,  0.93353022,\n",
       "         0.47185072, -0.4688966 ,  0.66715612],\n",
       "       [-0.14078614, -0.50308575,  0.26434287,  0.12250032,  0.3361002 ,\n",
       "        -0.24617668,  0.47316763, -0.50591099, -0.31994494, -0.2548487 ,\n",
       "        -0.09045084,  0.06657234,  0.27624587],\n",
       "       [-0.04355955, -0.0156834 , -0.02700214,  0.18605562,  0.1230639 ,\n",
       "         0.74390582,  0.12903434, -0.25659733,  0.05578977, -0.00510409,\n",
       "        -0.27274263, -0.00219808, -0.39340095]])"
      ]
     },
     "execution_count": 10,
     "metadata": {},
     "output_type": "execute_result"
    }
   ],
   "source": [
    "fa.components_                        # 因子負荷行列"
   ]
  },
  {
   "cell_type": "code",
   "execution_count": 11,
   "metadata": {},
   "outputs": [
    {
     "data": {
      "text/plain": [
       "(3, 13)"
      ]
     },
     "execution_count": 11,
     "metadata": {},
     "output_type": "execute_result"
    }
   ],
   "source": [
    "fa.components_.shape                  # サイズは(因子数, 次元)"
   ]
  },
  {
   "cell_type": "code",
   "execution_count": 12,
   "metadata": {},
   "outputs": [
    {
     "data": {
      "text/plain": [
       "array(['CHAS', 'RM', 'B', 'PTRATIO', 'ZN', 'CRIM', 'LSTAT', 'AGE', 'DIS',\n",
       "       'NOX', 'INDUS', 'RAD', 'TAX'], dtype='<U7')"
      ]
     },
     "execution_count": 12,
     "metadata": {},
     "output_type": "execute_result"
    }
   ],
   "source": [
    "# 因子負荷行列の要素：絶対値の大きさでソート．\n",
    "BostonHousing.feature_names[np.argsort(np.abs(fa.components_[0,]))]"
   ]
  },
  {
   "cell_type": "markdown",
   "metadata": {},
   "source": [
    "# 多次元尺度構成法\n",
    "（因子分解から続く）"
   ]
  },
  {
   "cell_type": "code",
   "execution_count": 13,
   "metadata": {},
   "outputs": [
    {
     "data": {
      "text/plain": [
       "array([[ 0.57043995,  0.21934573, -0.15137979],\n",
       "       [-0.09178679, -0.66322651,  0.22544355],\n",
       "       [ 0.48692369,  0.64452273, -0.28240492],\n",
       "       [-0.06175166,  0.15858936,  0.14382443],\n",
       "       [ 0.44269911,  0.74439351, -0.15660172],\n",
       "       [-0.11661929, -0.1440654 ,  0.84812104],\n",
       "       [ 0.25798213,  0.77891875, -0.15409093],\n",
       "       [-0.27557962, -0.86904556,  0.05158209],\n",
       "       [ 0.90274757,  0.27065679, -0.0795093 ],\n",
       "       [ 0.89683556,  0.32472334, -0.16338088],\n",
       "       [ 0.41839969,  0.10212588, -0.346013  ],\n",
       "       [-0.41359763, -0.21133849,  0.09259467],\n",
       "       [ 0.34734964,  0.448523  , -0.59527198]])"
      ]
     },
     "execution_count": 13,
     "metadata": {},
     "output_type": "execute_result"
    }
   ],
   "source": [
    "import statsmodels.api as sm\n",
    "from statsmodels.multivariate.factor_rotation import rotate_factors\n",
    "L, T = sm.multivariate.factor_rotation.rotate_factors(fa.components_.T,'varimax')  # バリマックス回転基準\n",
    "L"
   ]
  },
  {
   "cell_type": "code",
   "execution_count": 14,
   "metadata": {},
   "outputs": [],
   "source": [
    "from sklearn.manifold import MDS\n",
    "from sklearn.metrics.pairwise import euclidean_distances \n",
    "n = 10                              # データ数\n",
    "k = 2                               # データの次元\n",
    "V = np.random.rand(n,k)             # 真の配置\n",
    "d = euclidean_distances(V)          # 距離行列"
   ]
  },
  {
   "cell_type": "code",
   "execution_count": 15,
   "metadata": {},
   "outputs": [],
   "source": [
    "# 計量的MDS(次元2): 10個の初期値で計算し最適な解を採用\n",
    "md = MDS(n_components=2, metric=True, dissimilarity='precomputed', n_init=10, max_iter=3000)\n",
    "md.fit(d)\n",
    "rV2 = md.embedding_                 # 再構成された2次元点配置"
   ]
  },
  {
   "cell_type": "code",
   "execution_count": 16,
   "metadata": {},
   "outputs": [],
   "source": [
    "# 計量的MDS(次元1) \n",
    "md.set_params(n_components=1)          \n",
    "md.fit(d)        \n",
    "rV1 = md.embedding_                 # 再構成された1次元点配置"
   ]
  },
  {
   "cell_type": "code",
   "execution_count": 17,
   "metadata": {},
   "outputs": [
    {
     "data": {
      "text/plain": [
       "array([[-0.44666602],\n",
       "       [-0.57822003],\n",
       "       [ 0.44809446],\n",
       "       [-0.04723173],\n",
       "       [ 0.23805488],\n",
       "       [ 0.06677037],\n",
       "       [ 0.34287245],\n",
       "       [-0.61080818],\n",
       "       [-0.17711593],\n",
       "       [ 0.76424971]])"
      ]
     },
     "execution_count": 17,
     "metadata": {},
     "output_type": "execute_result"
    }
   ],
   "source": [
    "rV1"
   ]
  },
  {
   "cell_type": "code",
   "execution_count": 18,
   "metadata": {},
   "outputs": [
    {
     "data": {
      "image/png": "[encoded data removed]",
      "text/plain": [
       "<Figure size 432x288 with 1 Axes>"
      ]
     },
     "metadata": {
      "needs_background": "light"
     },
     "output_type": "display_data"
    }
   ],
   "source": [
    "# 元データのプロット\n",
    "plt.scatter(V[:,0],V[:,1],marker='.'); \n",
    "for i,(x,y) in enumerate(zip(V[:,0],V[:,1])): # 点番号も表示\n",
    "    plt.annotate(str(i),(x,y),fontsize=20)\n",
    "plt.show()"
   ]
  },
  {
   "cell_type": "code",
   "execution_count": 19,
   "metadata": {},
   "outputs": [
    {
     "data": {
      "image/png": "[encoded data removed]",
      "text/plain": [
       "<Figure size 432x288 with 1 Axes>"
      ]
     },
     "metadata": {
      "needs_background": "light"
     },
     "output_type": "display_data"
    }
   ],
   "source": [
    "# 計量的MDSで再構成した点のプロット\n",
    "plt.scatter(rV2[:,0],rV2[:,1],marker='.');    # 点番号も表示\n",
    "for i,(x,y) in enumerate(zip(rV2[:,0],rV2[:,1])):\n",
    "    plt.annotate(str(i),(x,y),fontsize=20)\n",
    "plt.show()"
   ]
  },
  {
   "cell_type": "code",
   "execution_count": 20,
   "metadata": {},
   "outputs": [],
   "source": [
    "from sklearn.manifold import MDS\n",
    "data = pd.read_csv('data/voting.csv').values\n",
    "#  S:非類似度行列(投票行動)，pidx: 所属する党(0/1)\n",
    "S=data[:,:15]; pidx=data[:,15]  \n",
    "col=['red','blue']; mk = ['x','o'] # 所属する党を区別するマーク"
   ]
  },
  {
   "cell_type": "code",
   "execution_count": 21,
   "metadata": {},
   "outputs": [
    {
     "data": {
      "image/png": "[encoded data removed]",
      "text/plain": [
       "<Figure size 432x288 with 1 Axes>"
      ]
     },
     "metadata": {
      "needs_background": "light"
     },
     "output_type": "display_data"
    }
   ],
   "source": [
    "# 非計量的MDS\n",
    "nmd = MDS(n_components=2, metric=False, dissimilarity='precomputed',  n_init=20,max_iter=3000)\n",
    "nmd.fit(S)          # フィッティング\n",
    "px = nmd.embedding_[:,0]; py = nmd.embedding_[:,1]\n",
    "for i in [0,1]:     # プロット\n",
    "    plt.scatter(px[pidx==i],py[pidx==i],c=col[i],marker=mk[i],s=100)\n",
    "for i,(x,y) in enumerate(zip(px,py)):\n",
    "    plt.annotate(str(i),(x,y),fontsize=20)    \n",
    "plt.show()"
   ]
  },
  {
   "cell_type": "code",
   "execution_count": 22,
   "metadata": {},
   "outputs": [
    {
     "data": {
      "image/png": "[encoded data removed]",
      "text/plain": [
       "<Figure size 432x288 with 1 Axes>"
      ]
     },
     "metadata": {
      "needs_background": "light"
     },
     "output_type": "display_data"
    }
   ],
   "source": [
    "# 計量的MDS\n",
    "nmd.set_params(metric=True)\n",
    "nmd.fit(S)          # フィッティング\n",
    "px = nmd.embedding_[:,0]; py = nmd.embedding_[:,1]\n",
    "for i in [0,1]:     # プロット\n",
    "    plt.scatter(px[pidx==i],py[pidx==i],c=col[i],marker=mk[i],s=100)\n",
    "for i,(x,y) in enumerate(zip(px,py)):\n",
    "    plt.annotate(str(i),(x,y),fontsize=20)    \n",
    "plt.show()"
   ]
  },
  {
   "cell_type": "code",
   "execution_count": null,
   "metadata": {},
   "outputs": [],
   "source": []
  }
 ],
 "metadata": {
  "kernelspec": {
   "display_name": "Python 3",
   "language": "python",
   "name": "python3"
  },
  "language_info": {
   "codemirror_mode": {
    "name": "ipython",
    "version": 3
   },
   "file_extension": ".py",
   "mimetype": "text/x-python",
   "name": "python",
   "nbconvert_exporter": "python",
   "pygments_lexer": "ipython3",
   "version": "3.7.3"
  }
 },
 "nbformat": 4,
 "nbformat_minor": 2
}
