{
 "cells": [
  {
   "cell_type": "markdown",
   "metadata": {},
   "source": [
    "# PCA (Principal Component Analysis)"
   ]
  },
  {
   "cell_type": "code",
   "execution_count": 1,
   "metadata": {},
   "outputs": [],
   "source": [
    "import numpy as np               \n",
    "import matplotlib.pyplot as plt  \n",
    "import pandas as pd"
   ]
  },
  {
   "cell_type": "markdown",
   "metadata": {},
   "source": [
    "主成分分析を行うには scikit-learn パッケージを使用して，sklearn.decomposition の PCA でインスタンスを生成します．\n",
    "\n",
    "以下の例では，Davis データを用いて主成分分析を行っています．\n",
    "\n",
    "Davisデータ（Davis.csv）はJupyter Notebookの保存されているディレクトリと同じディレクトリに保存されているものとします．\n",
    "\n",
    "Davisデータの読み込みには pandas パッケージの pd.read_csv を使用します．\n",
    "\n",
    "データ配列の第1, 2列の各行がデータ点${\\bf{x_{i}}} = ( w_{i}, h_{i} )$に対応しています（$x_{i}$は$i$番目の人の体重[kg]，$h_{i}$は身長[cm]に対応）．"
   ]
  },
  {
   "cell_type": "code",
   "execution_count": 2,
   "metadata": {
    "scrolled": true
   },
   "outputs": [
    {
     "data": {
      "image/png": "[encoded data removed]",
      "text/plain": [
       "<Figure size 432x288 with 1 Axes>"
      ]
     },
     "metadata": {},
     "output_type": "display_data"
    }
   ],
   "source": [
    "from sklearn.decomposition import PCA         # Use sklearn's PCA．\n",
    "dat = pd.read_csv('data/Davis.csv').values    # Read data (use pandas)\n",
    "# Convert the unit of height to [m] and calculate the value of logarithm.\n",
    "logdat = np.log(np.c_[dat[:,1],dat[:,2]/100].astype('float'))\n",
    "# Plot data\n",
    "plt.plot(logdat[:,0], logdat[:,1], '.'); plt.show()"
   ]
  },
  {
   "cell_type": "code",
   "execution_count": 3,
   "metadata": {},
   "outputs": [
    {
     "data": {
      "text/plain": [
       "array([[ 0.99672116,  0.08091309],\n",
       "       [ 0.08091309, -0.99672116]])"
      ]
     },
     "execution_count": 3,
     "metadata": {},
     "output_type": "execute_result"
    }
   ],
   "source": [
    "# PCA of data\n",
    "pca = PCA()    \n",
    "pca.fit(logdat) \n",
    "pca.components_       # Principal component"
   ]
  },
  {
   "cell_type": "code",
   "execution_count": 4,
   "metadata": {},
   "outputs": [
    {
     "data": {
      "text/plain": [
       "array([[ 0.97754866,  0.21070979],\n",
       "       [-0.21070979,  0.97754866]])"
      ]
     },
     "execution_count": 4,
     "metadata": {},
     "output_type": "execute_result"
    }
   ],
   "source": [
    "# Data at index 11 are removed as outliers.\n",
    "clean_logdat = np.delete(logdat, 11, axis=0)\n",
    "\n",
    "# Principal component analysis of data from which outliers have been removed\n",
    "pca = PCA()    \n",
    "pca.fit(clean_logdat) \n",
    "pca.components_       # Principal component"
   ]
  },
  {
   "cell_type": "markdown",
   "metadata": {},
   "source": [
    "# 因子分析"
   ]
  },
  {
   "cell_type": "code",
   "execution_count": 5,
   "metadata": {},
   "outputs": [],
   "source": [
    "import numpy as np\n",
    "from sklearn.datasets import load_boston  # BostonHousing を使う\n",
    "BostonHousing = load_boston()             # データ読み込み"
   ]
  },
  {
   "cell_type": "code",
   "execution_count": 6,
   "metadata": {},
   "outputs": [],
   "source": [
    "from sklearn.decomposition import FactorAnalysis\n",
    "from sklearn.preprocessing import scale\n",
    "X = scale(BostonHousing.data)  # データのスケーリング(相関行列に因子分解を適用)"
   ]
  },
  {
   "cell_type": "code",
   "execution_count": 7,
   "metadata": {},
   "outputs": [
    {
     "data": {
      "text/plain": [
       "(506, 13)"
      ]
     },
     "execution_count": 7,
     "metadata": {},
     "output_type": "execute_result"
    }
   ],
   "source": [
    "X.shape                        # データ行列のサイズ：13次元506サンプル"
   ]
  },
  {
   "cell_type": "code",
   "execution_count": 8,
   "metadata": {},
   "outputs": [],
   "source": [
    "fa = FactorAnalysis(n_components=3)   # 因子数3で推定\n",
    "rX = fa.fit_transform(X)              # 因子スコア"
   ]
  },
  {
   "cell_type": "code",
   "execution_count": 9,
   "metadata": {},
   "outputs": [
    {
     "data": {
      "text/plain": [
       "(506, 3)"
      ]
     },
     "execution_count": 9,
     "metadata": {},
     "output_type": "execute_result"
    }
   ],
   "source": [
    "rX.shape"
   ]
  },
  {
   "cell_type": "code",
   "execution_count": 10,
   "metadata": {},
   "outputs": [
    {
     "data": {
      "text/plain": [
       "array([[ 0.60841747, -0.49494108,  0.81348536,  0.00483051,  0.80358983,\n",
       "        -0.37394421,  0.67493181, -0.71478317,  0.88823336,  0.93426511,\n",
       "         0.4719411 , -0.46857739,  0.6667707 ],\n",
       "       [-0.13831681, -0.50420234,  0.26472014,  0.12236686,  0.33682836,\n",
       "        -0.24812374,  0.4737658 , -0.50642376, -0.31818625, -0.25439366,\n",
       "        -0.0890454 ,  0.06551875,  0.27791882],\n",
       "       [-0.0444211 , -0.01663459, -0.02596455,  0.18592351,  0.12404607,\n",
       "         0.74457979,  0.1306529 , -0.25763679,  0.05555484, -0.00502006,\n",
       "        -0.27244655, -0.00285167, -0.39184026]])"
      ]
     },
     "execution_count": 10,
     "metadata": {},
     "output_type": "execute_result"
    }
   ],
   "source": [
    "fa.components_                        # 因子負荷行列"
   ]
  },
  {
   "cell_type": "code",
   "execution_count": 11,
   "metadata": {},
   "outputs": [
    {
     "data": {
      "text/plain": [
       "(3, 13)"
      ]
     },
     "execution_count": 11,
     "metadata": {},
     "output_type": "execute_result"
    }
   ],
   "source": [
    "fa.components_.shape                  # サイズは(因子数, 次元)"
   ]
  },
  {
   "cell_type": "code",
   "execution_count": 12,
   "metadata": {},
   "outputs": [
    {
     "data": {
      "text/plain": [
       "array(['CHAS', 'RM', 'B', 'PTRATIO', 'ZN', 'CRIM', 'LSTAT', 'AGE', 'DIS',\n",
       "       'NOX', 'INDUS', 'RAD', 'TAX'], dtype='<U7')"
      ]
     },
     "execution_count": 12,
     "metadata": {},
     "output_type": "execute_result"
    }
   ],
   "source": [
    "# 因子負荷行列の要素：絶対値の大きさでソート．\n",
    "BostonHousing.feature_names[np.argsort(np.abs(fa.components_[0,]))]"
   ]
  },
  {
   "cell_type": "markdown",
   "metadata": {},
   "source": [
    "# 多次元尺度構成法\n",
    "（因子分解から続く）"
   ]
  },
  {
   "cell_type": "code",
   "execution_count": 13,
   "metadata": {},
   "outputs": [
    {
     "data": {
      "text/plain": [
       "array([[ 0.5663403 ,  0.21804878, -0.15162447],\n",
       "       [-0.09141312, -0.6634721 ,  0.22563641],\n",
       "       [ 0.48775161,  0.64424597, -0.28205468],\n",
       "       [-0.06192479,  0.15857947,  0.14346569],\n",
       "       [ 0.44283427,  0.74431776, -0.15648091],\n",
       "       [-0.11671964, -0.14390299,  0.84939224],\n",
       "       [ 0.25807616,  0.77902084, -0.15355907],\n",
       "       [-0.27559021, -0.86898553,  0.05168074],\n",
       "       [ 0.90199198,  0.27086566, -0.07955876],\n",
       "       [ 0.89765703,  0.32435335, -0.16309324],\n",
       "       [ 0.41813753,  0.10235314, -0.34578816],\n",
       "       [-0.41305023, -0.21162195,  0.0920395 ],\n",
       "       [ 0.34722916,  0.44876794, -0.59447461]])"
      ]
     },
     "execution_count": 13,
     "metadata": {},
     "output_type": "execute_result"
    }
   ],
   "source": [
    "import statsmodels.api as sm\n",
    "from statsmodels.multivariate.factor_rotation import rotate_factors\n",
    "L, T = sm.multivariate.factor_rotation.rotate_factors(fa.components_.T,'varimax')  # バリマックス回転基準\n",
    "L"
   ]
  },
  {
   "cell_type": "code",
   "execution_count": 14,
   "metadata": {},
   "outputs": [],
   "source": [
    "from sklearn.manifold import MDS\n",
    "from sklearn.metrics.pairwise import euclidean_distances \n",
    "n = 10                              # データ数\n",
    "k = 2                               # データの次元\n",
    "V = np.random.rand(n,k)             # 真の配置\n",
    "d = euclidean_distances(V)          # 距離行列"
   ]
  },
  {
   "cell_type": "code",
   "execution_count": 15,
   "metadata": {},
   "outputs": [],
   "source": [
    "# 計量的MDS(次元2): 10個の初期値で計算し最適な解を採用\n",
    "md = MDS(n_components=2, metric=True, dissimilarity='precomputed', n_init=10, max_iter=3000)\n",
    "md.fit(d)\n",
    "rV2 = md.embedding_                 # 再構成された2次元点配置"
   ]
  },
  {
   "cell_type": "code",
   "execution_count": 16,
   "metadata": {},
   "outputs": [],
   "source": [
    "# 計量的MDS(次元1) \n",
    "md.set_params(n_components=1)          \n",
    "md.fit(d)        \n",
    "rV1 = md.embedding_                 # 再構成された1次元点配置"
   ]
  },
  {
   "cell_type": "code",
   "execution_count": 17,
   "metadata": {},
   "outputs": [
    {
     "data": {
      "text/plain": [
       "array([[-0.22543435],\n",
       "       [-0.27282806],\n",
       "       [ 0.04596737],\n",
       "       [ 0.46712403],\n",
       "       [ 0.45424453],\n",
       "       [ 0.15785916],\n",
       "       [-0.28863528],\n",
       "       [ 0.07361744],\n",
       "       [-0.45525996],\n",
       "       [ 0.04334512]])"
      ]
     },
     "execution_count": 17,
     "metadata": {},
     "output_type": "execute_result"
    }
   ],
   "source": [
    "rV1"
   ]
  },
  {
   "cell_type": "code",
   "execution_count": 18,
   "metadata": {},
   "outputs": [
    {
     "data": {
      "image/png": "[encoded data removed]",
      "text/plain": [
       "<Figure size 432x288 with 1 Axes>"
      ]
     },
     "metadata": {},
     "output_type": "display_data"
    }
   ],
   "source": [
    "# 元データのプロット\n",
    "plt.scatter(V[:,0],V[:,1],marker='.'); \n",
    "for i,(x,y) in enumerate(zip(V[:,0],V[:,1])): # 点番号も表示\n",
    "    plt.annotate(str(i),(x,y),fontsize=20)\n",
    "plt.show()"
   ]
  },
  {
   "cell_type": "code",
   "execution_count": 19,
   "metadata": {},
   "outputs": [
    {
     "data": {
      "image/png": "[encoded data removed]",
      "text/plain": [
       "<Figure size 432x288 with 1 Axes>"
      ]
     },
     "metadata": {},
     "output_type": "display_data"
    }
   ],
   "source": [
    "# 計量的MDSで再構成した点のプロット\n",
    "plt.scatter(rV2[:,0],rV2[:,1],marker='.');    # 点番号も表示\n",
    "for i,(x,y) in enumerate(zip(rV2[:,0],rV2[:,1])):\n",
    "    plt.annotate(str(i),(x,y),fontsize=20)\n",
    "plt.show()"
   ]
  },
  {
   "cell_type": "code",
   "execution_count": 20,
   "metadata": {},
   "outputs": [],
   "source": [
    "from sklearn.manifold import MDS\n",
    "data = pd.read_csv('data/voting.csv').values\n",
    "#  S:非類似度行列(投票行動)，pidx: 所属する党(0/1)\n",
    "S=data[:,:15]; pidx=data[:,15]  \n",
    "col=['red','blue']; mk = ['x','o'] # 所属する党を区別するマーク"
   ]
  },
  {
   "cell_type": "code",
   "execution_count": 21,
   "metadata": {},
   "outputs": [
    {
     "data": {
      "image/png": "[encoded data removed]",
      "text/plain": [
       "<Figure size 432x288 with 1 Axes>"
      ]
     },
     "metadata": {},
     "output_type": "display_data"
    }
   ],
   "source": [
    "# 非計量的MDS\n",
    "nmd = MDS(n_components=2, metric=False, dissimilarity='precomputed',  n_init=20,max_iter=3000)\n",
    "nmd.fit(S)          # フィッティング\n",
    "px = nmd.embedding_[:,0]; py = nmd.embedding_[:,1]\n",
    "for i in [0,1]:     # プロット\n",
    "    plt.scatter(px[pidx==i],py[pidx==i],c=col[i],marker=mk[i],s=100)\n",
    "for i,(x,y) in enumerate(zip(px,py)):\n",
    "    plt.annotate(str(i),(x,y),fontsize=20)    \n",
    "plt.show()"
   ]
  },
  {
   "cell_type": "code",
   "execution_count": 22,
   "metadata": {},
   "outputs": [
    {
     "data": {
      "image/png": "[encoded data removed]",
      "text/plain": [
       "<Figure size 432x288 with 1 Axes>"
      ]
     },
     "metadata": {},
     "output_type": "display_data"
    }
   ],
   "source": [
    "# 計量的MDS\n",
    "nmd.set_params(metric=True)\n",
    "nmd.fit(S)          # フィッティング\n",
    "px = nmd.embedding_[:,0]; py = nmd.embedding_[:,1]\n",
    "for i in [0,1]:     # プロット\n",
    "    plt.scatter(px[pidx==i],py[pidx==i],c=col[i],marker=mk[i],s=100)\n",
    "for i,(x,y) in enumerate(zip(px,py)):\n",
    "    plt.annotate(str(i),(x,y),fontsize=20)    \n",
    "plt.show()"
   ]
  },
  {
   "cell_type": "code",
   "execution_count": null,
   "metadata": {},
   "outputs": [],
   "source": []
  }
 ],
 "metadata": {
  "kernelspec": {
   "display_name": "Python 3",
   "language": "python",
   "name": "python3"
  },
  "language_info": {
   "codemirror_mode": {
    "name": "ipython",
    "version": 3
   },
   "file_extension": ".py",
   "mimetype": "text/x-python",
   "name": "python",
   "nbconvert_exporter": "python",
   "pygments_lexer": "ipython3",
   "version": "3.6.5"
  }
 },
 "nbformat": 4,
 "nbformat_minor": 2
}
