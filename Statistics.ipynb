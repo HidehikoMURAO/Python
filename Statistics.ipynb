{
 "cells": [
  {
   "cell_type": "markdown",
   "metadata": {},
   "source": [
    "# Throw the dice"
   ]
  },
  {
   "cell_type": "code",
   "execution_count": 1,
   "metadata": {},
   "outputs": [],
   "source": [
    "import numpy as np"
   ]
  },
  {
   "cell_type": "code",
   "execution_count": 2,
   "metadata": {},
   "outputs": [
    {
     "data": {
      "text/plain": [
       "array([1, 6, 2, 4, 4, 6, 6, 1, 3, 2])"
      ]
     },
     "execution_count": 2,
     "metadata": {},
     "output_type": "execute_result"
    }
   ],
   "source": [
    "np.random.choice(np.arange(1, 7), 10)"
   ]
  },
  {
   "cell_type": "code",
   "execution_count": 3,
   "metadata": {},
   "outputs": [
    {
     "data": {
      "text/plain": [
       "array([6, 2, 5, 3, 6, 2, 1, 2, 6, 1])"
      ]
     },
     "execution_count": 3,
     "metadata": {},
     "output_type": "execute_result"
    }
   ],
   "source": [
    "np.random.choice(np.arange(1, 7), 10, replace=True) # By default \"replace\" is \"True\""
   ]
  },
  {
   "cell_type": "code",
   "execution_count": 4,
   "metadata": {},
   "outputs": [
    {
     "data": {
      "text/plain": [
       "array([5, 4, 3, 6, 1])"
      ]
     },
     "execution_count": 4,
     "metadata": {},
     "output_type": "execute_result"
    }
   ],
   "source": [
    "np.random.choice(np.arange(1, 7), 5, replace=False)"
   ]
  },
  {
   "cell_type": "code",
   "execution_count": 5,
   "metadata": {},
   "outputs": [
    {
     "data": {
      "text/plain": [
       "array([4, 5, 4, 5, 6, 4, 5, 5, 3, 1])"
      ]
     },
     "execution_count": 5,
     "metadata": {},
     "output_type": "execute_result"
    }
   ],
   "source": [
    "p = np.array([1, 1, 1, 3, 3, 3]); p = p / np.sum(p)\n",
    "np.random.choice(np.arange(1, 7), 10, p = p)"
   ]
  },
  {
   "cell_type": "markdown",
   "metadata": {},
   "source": [
    "# Expected value and Variance"
   ]
  },
  {
   "cell_type": "code",
   "execution_count": 6,
   "metadata": {},
   "outputs": [],
   "source": [
    "import numpy as np"
   ]
  },
  {
   "cell_type": "markdown",
   "metadata": {},
   "source": [
    "#### 正規分布\n",
    "\n",
    "np.random.normal(loc = 0.0, scale = 1.0, size = None)\n",
    "\n",
    "オプションのlocは期待値，scaleは標準偏差，sizeはサンプル数\n",
    "\n",
    "#### 標準正規分布\n",
    "\n",
    "np.random.randn(d0, d1, d2, ...)\n",
    "\n",
    "標準正規分布は，期待値0, 分散1の正規分布．(d0, d1, d2, ...) のサイズの配列に，標準正規分布からのサンプルを格納\n",
    "\n",
    "#### 一様分布\n",
    "\n",
    "np.random.uniform(low = 0.0, high = 1.0, size = None)\n",
    "\n",
    "オプションのlowは最小値，highは最大値，sizeはサンプル数\n",
    "\n",
    "#### 区間[0, 1]上の一様分布\n",
    "\n",
    "np.random.rand(d0, d1, d2, ...)\n",
    "\n",
    "(d0, d1, d2, ...) のサイズの配列に，区間[0, 1]上の一様分布からのサンプルを格納"
   ]
  },
  {
   "cell_type": "code",
   "execution_count": 7,
   "metadata": {},
   "outputs": [],
   "source": [
    "x = np.random.normal(1, 2, 100) # np.random.normal(loc, scale, size)"
   ]
  },
  {
   "cell_type": "code",
   "execution_count": 8,
   "metadata": {},
   "outputs": [
    {
     "data": {
      "text/plain": [
       "1.3196583300638483"
      ]
     },
     "execution_count": 8,
     "metadata": {},
     "output_type": "execute_result"
    }
   ],
   "source": [
    "x.mean()   # Same as \"np.mean(x)\""
   ]
  },
  {
   "cell_type": "code",
   "execution_count": 9,
   "metadata": {},
   "outputs": [
    {
     "data": {
      "text/plain": [
       "1.3196583300638483"
      ]
     },
     "execution_count": 9,
     "metadata": {},
     "output_type": "execute_result"
    }
   ],
   "source": [
    "np.mean(x) # Same as \"x.mean()\""
   ]
  },
  {
   "cell_type": "code",
   "execution_count": 10,
   "metadata": {},
   "outputs": [
    {
     "data": {
      "text/plain": [
       "1.7719345206152008"
      ]
     },
     "execution_count": 10,
     "metadata": {},
     "output_type": "execute_result"
    }
   ],
   "source": [
    "x.std()    # Same as \"np.std()\""
   ]
  },
  {
   "cell_type": "code",
   "execution_count": 11,
   "metadata": {},
   "outputs": [
    {
     "data": {
      "text/plain": [
       "1.7719345206152008"
      ]
     },
     "execution_count": 11,
     "metadata": {},
     "output_type": "execute_result"
    }
   ],
   "source": [
    "np.std(x)  # Same as \"x.std()\""
   ]
  },
  {
   "cell_type": "markdown",
   "metadata": {},
   "source": [
    "Find the proportion of data that becomes $|x−E[x]|\\leq \\mathrm{sd}(x)$．"
   ]
  },
  {
   "cell_type": "code",
   "execution_count": 12,
   "metadata": {},
   "outputs": [
    {
     "data": {
      "text/plain": [
       "0.7"
      ]
     },
     "execution_count": 12,
     "metadata": {},
     "output_type": "execute_result"
    }
   ],
   "source": [
    "np.mean(np.abs(x - np.mean(x)) <= np.std(x))"
   ]
  },
  {
   "cell_type": "markdown",
   "metadata": {},
   "source": [
    "Find the proportion of data that becomes $| x - E[x] | \\leq 2 \\times \\mathrm{sd}(x) $．"
   ]
  },
  {
   "cell_type": "code",
   "execution_count": 13,
   "metadata": {},
   "outputs": [
    {
     "data": {
      "text/plain": [
       "0.95"
      ]
     },
     "execution_count": 13,
     "metadata": {},
     "output_type": "execute_result"
    }
   ],
   "source": [
    "np.mean(np.abs(x - np.mean(x)) <= 2 * np.std(x))"
   ]
  },
  {
   "cell_type": "markdown",
   "metadata": {},
   "source": [
    "# Quantile"
   ]
  },
  {
   "cell_type": "code",
   "execution_count": 14,
   "metadata": {},
   "outputs": [],
   "source": [
    "import scipy as sp\n",
    "from scipy.stats import norm"
   ]
  },
  {
   "cell_type": "markdown",
   "metadata": {},
   "source": [
    "標準正規分布$N(0, 1)$ の上側 $\\alpha$ を $z_{\\alpha}$ と表す．\n",
    "\n",
    "sp.stats.norm.ppf\n",
    "\n",
    "を使うと正規分布の分位点（Quantile）$z_{\\alpha}$を計算できる．"
   ]
  },
  {
   "cell_type": "markdown",
   "metadata": {},
   "source": [
    "$N(0, 1)$の0.7点"
   ]
  },
  {
   "cell_type": "code",
   "execution_count": 15,
   "metadata": {},
   "outputs": [
    {
     "data": {
      "text/plain": [
       "0.5244005127080407"
      ]
     },
     "execution_count": 15,
     "metadata": {},
     "output_type": "execute_result"
    }
   ],
   "source": [
    "sp.stats.norm.ppf(0.7)"
   ]
  },
  {
   "cell_type": "markdown",
   "metadata": {},
   "source": [
    "$N(1, 2^2)$ の0.7点"
   ]
  },
  {
   "cell_type": "code",
   "execution_count": 16,
   "metadata": {},
   "outputs": [
    {
     "data": {
      "text/plain": [
       "2.0488010254160813"
      ]
     },
     "execution_count": 16,
     "metadata": {},
     "output_type": "execute_result"
    }
   ],
   "source": [
    "sp.stats.norm.ppf(0.7, loc = 1, scale = 2)"
   ]
  },
  {
   "cell_type": "markdown",
   "metadata": {},
   "source": [
    "$N(0, 1)$の上側0.05点"
   ]
  },
  {
   "cell_type": "code",
   "execution_count": 17,
   "metadata": {},
   "outputs": [
    {
     "data": {
      "text/plain": [
       "1.6448536269514722"
      ]
     },
     "execution_count": 17,
     "metadata": {},
     "output_type": "execute_result"
    }
   ],
   "source": [
    "alpha = 0.05\n",
    "sp.stats.norm.ppf(1 - alpha)"
   ]
  },
  {
   "cell_type": "markdown",
   "metadata": {},
   "source": [
    "# Covariance and Correlation coefficient"
   ]
  },
  {
   "cell_type": "code",
   "execution_count": 18,
   "metadata": {},
   "outputs": [],
   "source": [
    "import numpy as np\n",
    "from sklearn.datasets import load_iris"
   ]
  },
  {
   "cell_type": "code",
   "execution_count": 19,
   "metadata": {},
   "outputs": [
    {
     "data": {
      "text/plain": [
       "(150, 4)"
      ]
     },
     "execution_count": 19,
     "metadata": {},
     "output_type": "execute_result"
    }
   ],
   "source": [
    "iris = load_iris()\n",
    "iris.data.shape    # number of data, dimension"
   ]
  },
  {
   "cell_type": "code",
   "execution_count": 20,
   "metadata": {},
   "outputs": [],
   "source": [
    "# Variance-covariance matrix (Transposition of data matrix)"
   ]
  },
  {
   "cell_type": "code",
   "execution_count": 21,
   "metadata": {},
   "outputs": [
    {
     "data": {
      "text/plain": [
       "array([[ 0.68569351, -0.03926846,  1.27368233,  0.5169038 ],\n",
       "       [-0.03926846,  0.18800403, -0.32171275, -0.11798121],\n",
       "       [ 1.27368233, -0.32171275,  3.11317942,  1.29638747],\n",
       "       [ 0.5169038 , -0.11798121,  1.29638747,  0.58241432]])"
      ]
     },
     "execution_count": 21,
     "metadata": {},
     "output_type": "execute_result"
    }
   ],
   "source": [
    "np.cov(iris.data.T)"
   ]
  },
  {
   "cell_type": "code",
   "execution_count": 22,
   "metadata": {},
   "outputs": [],
   "source": [
    "# Correlation coefficient matrix (Transposition of data matrix)"
   ]
  },
  {
   "cell_type": "code",
   "execution_count": 23,
   "metadata": {},
   "outputs": [
    {
     "data": {
      "text/plain": [
       "array([[ 1.        , -0.10936925,  0.87175416,  0.81795363],\n",
       "       [-0.10936925,  1.        , -0.4205161 , -0.35654409],\n",
       "       [ 0.87175416, -0.4205161 ,  1.        ,  0.9627571 ],\n",
       "       [ 0.81795363, -0.35654409,  0.9627571 ,  1.        ]])"
      ]
     },
     "execution_count": 23,
     "metadata": {},
     "output_type": "execute_result"
    }
   ],
   "source": [
    "np.corrcoef(iris.data.T)"
   ]
  },
  {
   "cell_type": "markdown",
   "metadata": {},
   "source": [
    "# Loss function, Training error and Test error"
   ]
  },
  {
   "cell_type": "code",
   "execution_count": 24,
   "metadata": {},
   "outputs": [],
   "source": [
    "import numpy as np\n",
    "import matplotlib.pyplot as plt\n",
    "import scipy.stats"
   ]
  },
  {
   "cell_type": "markdown",
   "metadata": {},
   "source": [
    "Set the parameter range. "
   ]
  },
  {
   "cell_type": "code",
   "execution_count": 25,
   "metadata": {},
   "outputs": [],
   "source": [
    "par = np.linspace(-3,3,50)"
   ]
  },
  {
   "cell_type": "markdown",
   "metadata": {},
   "source": [
    "Set the testerror. "
   ]
  },
  {
   "cell_type": "code",
   "execution_count": 26,
   "metadata": {},
   "outputs": [],
   "source": [
    "te_err = (1+par**2)/2"
   ]
  },
  {
   "cell_type": "markdown",
   "metadata": {},
   "source": [
    "Plot the test error"
   ]
  },
  {
   "cell_type": "code",
   "execution_count": 27,
   "metadata": {},
   "outputs": [
    {
     "data": {
      "image/png": "[encoded data removed]",
      "text/plain": [
       "<Figure size 432x288 with 1 Axes>"
      ]
     },
     "metadata": {},
     "output_type": "display_data"
    }
   ],
   "source": [
    "for i in range(10):\n",
    "    # Generate the data\n",
    "    z = np.random.normal(size=20)\n",
    "    # Training error\n",
    "    trerr = np.mean(np.subtract.outer(z,par)**2/2, axis=0)\n",
    "    plt.plot(par,trerr,'b--',linewidth=2)\n",
    "\n",
    "# Plot the graph\n",
    "plt.xlabel(\"par\")\n",
    "plt.ylabel(\"training/test errors\")\n",
    "plt.plot(par, te_err,'r-',linewidth=4) # Plot the test error\n",
    "plt.show()"
   ]
  },
  {
   "cell_type": "markdown",
   "metadata": {},
   "source": [
    "# Estimation of test error by cross validation method"
   ]
  },
  {
   "cell_type": "code",
   "execution_count": 28,
   "metadata": {},
   "outputs": [],
   "source": [
    "import numpy as np\n",
    "import scipy as sp\n",
    "import matplotlib.pyplot as plt\n",
    "from sklearn.tree import DecisionTreeRegressor"
   ]
  },
  {
   "cell_type": "code",
   "execution_count": 29,
   "metadata": {},
   "outputs": [],
   "source": [
    "from sklearn.tree import DecisionTreeRegressor\n",
    "n, K = 100, 10                   # Set the number of data to 100 and 10 CV( Cross Validation).\n",
    "# Data generation\n",
    "x = np.random.uniform(-2,2,n)    # Uniform distribution on the interval [-2, 2]\n",
    "y = np.sin(2*np.pi*x)/x + np.random.normal(scale=0.5,size=n)\n",
    "# Group data into groups \n",
    "cv_idx = np.tile(np.arange(K), int(np.ceil(n/K)))[:n]    \n",
    "maxdepths = np.arange(2,10)      # Set candidates for decision tree depth\n",
    "cverr = np.array([])\n",
    "for mp in maxdepths:\n",
    "    cverr_lambda = np.array([])\n",
    "    for k in range(K):  \n",
    "        tr_idx = (cv_idx!=k) \n",
    "        te_idx = (cv_idx==k) \n",
    "        cvx = x[tr_idx]; cvy = y[tr_idx]   # Split data for CV\n",
    "        dtreg = DecisionTreeRegressor(max_depth=mp)\n",
    "        dtreg.fit(np.array([cvx]).T, cvy)               # Estimate by decision tree\n",
    "        ypred = dtreg.predict(np.array([x[te_idx]]).T)  # Prediction\n",
    "        # Calculate CV error\n",
    "        cl = np.append(cverr_lambda, np.mean((y[te_idx]-ypred)**2/2))\n",
    "    cverr = np.append(cverr, np.mean(cl))"
   ]
  },
  {
   "cell_type": "code",
   "execution_count": 30,
   "metadata": {},
   "outputs": [
    {
     "data": {
      "image/png": "[encoded data removed]",
      "text/plain": [
       "<Figure size 432x288 with 1 Axes>"
      ]
     },
     "metadata": {},
     "output_type": "display_data"
    }
   ],
   "source": [
    "plt.scatter(maxdepths, cverr,c='k')  # Plot cv error\n",
    "plt.xlabel(\"max depth\"); plt.ylabel('cv error')\n",
    "plt.show()"
   ]
  },
  {
   "cell_type": "markdown",
   "metadata": {},
   "source": [
    "# ROC curve and AUC\n",
    "ROC curve (Receiver Operating Characteristic curve)\n",
    "\n",
    "AUC (Area Under the Curve)"
   ]
  },
  {
   "cell_type": "code",
   "execution_count": 31,
   "metadata": {},
   "outputs": [],
   "source": [
    "import numpy as np"
   ]
  },
  {
   "cell_type": "code",
   "execution_count": 32,
   "metadata": {},
   "outputs": [],
   "source": [
    "n = 100     # データ数 100\n",
    "xp = np.random.normal(loc=1,size=n*2).reshape(n,2) # 信号アリ\n",
    "xn = np.random.normal(size=n*2).reshape(n,2)       # 信号ナシ"
   ]
  },
  {
   "cell_type": "code",
   "execution_count": 33,
   "metadata": {},
   "outputs": [
    {
     "data": {
      "text/plain": [
       "0.6965"
      ]
     },
     "execution_count": 33,
     "metadata": {},
     "output_type": "execute_result"
    }
   ],
   "source": [
    "# F1 のAUC\n",
    "np.mean(np.subtract.outer(xp[:,0],xn[:,0]) >= 0)   "
   ]
  },
  {
   "cell_type": "code",
   "execution_count": 34,
   "metadata": {},
   "outputs": [
    {
     "data": {
      "text/plain": [
       "0.7937"
      ]
     },
     "execution_count": 34,
     "metadata": {},
     "output_type": "execute_result"
    }
   ],
   "source": [
    "# F2 のAUC\n",
    "np.mean(np.subtract.outer(np.sum(xp,1),np.sum(xn,1)) >= 0)  "
   ]
  },
  {
   "cell_type": "markdown",
   "metadata": {},
   "source": [
    "F2の計算には行列の行和を求める．\n",
    "\n",
    "    行和は np.sum のaxisオプションを1とすれば計算できる．\n",
    "    \n",
    "        np.sum(xp, axis=1)と指定するのが基本だが，np.sum(xp, 1)と書いても良い. \n",
    "        \n",
    "    列和は axisオプションを0とすれば計算できる．\n",
    "    \n",
    "        np.sum(xp, axis=0)と指定するのが基本だが，np.sum(xp, 0)と書いても良い. \n",
    "\n",
    "コードでは，信号アリ，ナシのデータのすべてのペアについて差をとって，それが0より大きいかどうかを判定している．\n",
    "\n",
    "すなわち\n",
    "\n",
    "${\\bf{E}}_{X \\sim P_{+}, X' \\sim P_{-}} [ I [F(X) - F(X') \\geq 0 ]]$\n",
    "\n",
    "と変形して計算する．\n",
    "\n",
    "この計算には，外積の「掛け算」を「引き算」に変えた np.subtract.outer を用いている．"
   ]
  },
  {
   "cell_type": "code",
   "execution_count": 35,
   "metadata": {},
   "outputs": [],
   "source": [
    "n = 10000  # データ数 10000\n",
    "xp = np.random.normal(loc=1,size=n*2).reshape(n,2) # 信号アリ\n",
    "xn = np.random.normal(size=n*2).reshape(n,2)       # 信号ナシ"
   ]
  },
  {
   "cell_type": "code",
   "execution_count": 36,
   "metadata": {},
   "outputs": [
    {
     "data": {
      "text/plain": [
       "0.76130313"
      ]
     },
     "execution_count": 36,
     "metadata": {},
     "output_type": "execute_result"
    }
   ],
   "source": [
    "# F1 のAUC\n",
    "np.mean(np.subtract.outer(xp[:,0],xn[:,0]) >= 0)"
   ]
  },
  {
   "cell_type": "code",
   "execution_count": 37,
   "metadata": {},
   "outputs": [
    {
     "data": {
      "text/plain": [
       "0.84290953"
      ]
     },
     "execution_count": 37,
     "metadata": {},
     "output_type": "execute_result"
    }
   ],
   "source": [
    "# F2 のAUC\n",
    "np.mean(np.subtract.outer(np.sum(xp,1),np.sum(xn,1)) >= 0)"
   ]
  },
  {
   "cell_type": "code",
   "execution_count": 38,
   "metadata": {},
   "outputs": [],
   "source": [
    "import scipy as sp\n",
    "from scipy import integrate    # integrateを使う"
   ]
  },
  {
   "cell_type": "markdown",
   "metadata": {},
   "source": [
    "面積計算には scipy で提供される数値積分のモジュール integrate を用いる．\n",
    "\n",
    "$F_{1}$と$F_{2}$の分布は\n",
    "\n",
    "$F_{1} (X) \\sim N(0, 1), \\ F_{1} (X') \\sim N(1, 1)$\n",
    "\n",
    "$F_{2} (X) \\sim N(0, 2), \\ F_{2} (X') \\sim N(2, 2)$\n",
    "\n",
    "となり，これらからROC曲線を求めることができる．"
   ]
  },
  {
   "cell_type": "code",
   "execution_count": 39,
   "metadata": {},
   "outputs": [
    {
     "data": {
      "text/plain": [
       "0.7602481081209274"
      ]
     },
     "execution_count": 39,
     "metadata": {},
     "output_type": "execute_result"
    }
   ],
   "source": [
    "# F1のAUC\n",
    "def fpr(c):\n",
    "    return(1-sp.stats.norm.cdf(c))\n",
    "def tpr(c):\n",
    "    return(1-sp.stats.norm.cdf(c,loc=1))\n",
    "c = np.arange(-10, 10, 0.01)\n",
    "sp.integrate.cumtrapz(tpr(c)[::-1],fpr(c)[::-1])[-1]  # F1のAUCの計算"
   ]
  },
  {
   "cell_type": "code",
   "execution_count": 40,
   "metadata": {},
   "outputs": [
    {
     "data": {
      "text/plain": [
       "0.8413437378589432"
      ]
     },
     "execution_count": 40,
     "metadata": {},
     "output_type": "execute_result"
    }
   ],
   "source": [
    "# F2のAUC\n",
    "def fpr(c):\n",
    "    return(1-sp.stats.norm.cdf(c,scale=np.sqrt(2))) \n",
    "def tpr(c):\n",
    "    return(1-sp.stats.norm.cdf(c,loc=2,scale=np.sqrt(2)))\n",
    "sp.integrate.cumtrapz(tpr(c)[::-1],fpr(c)[::-1])[-1]  # F2のAUCの計算"
   ]
  },
  {
   "cell_type": "markdown",
   "metadata": {},
   "source": [
    "配列 fpr(c) は降順になっているので，昇順にするために fpr(c)[::-1]としている．\n",
    "\n",
    "それに伴って，tpr(c) の方も順番を逆転させている．\n",
    "\n",
    "これらの計算から sp.integrate.cumtrapz の返り値として正の積分値が得られる．"
   ]
  },
  {
   "cell_type": "code",
   "execution_count": null,
   "metadata": {},
   "outputs": [],
   "source": []
  }
 ],
 "metadata": {
  "@webio": {
   "lastCommId": null,
   "lastKernelId": null
  },
  "kernelspec": {
   "display_name": "Python 3",
   "language": "python",
   "name": "python3"
  },
  "language_info": {
   "codemirror_mode": {
    "name": "ipython",
    "version": 3
   },
   "file_extension": ".py",
   "mimetype": "text/x-python",
   "name": "python",
   "nbconvert_exporter": "python",
   "pygments_lexer": "ipython3",
   "version": "3.6.5"
  }
 },
 "nbformat": 4,
 "nbformat_minor": 2
}
