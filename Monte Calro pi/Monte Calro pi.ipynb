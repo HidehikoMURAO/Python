{
 "cells": [
  {
   "cell_type": "code",
   "execution_count": 1,
   "metadata": {},
   "outputs": [],
   "source": [
    "import random\n",
    "import math"
   ]
  },
  {
   "cell_type": "code",
   "execution_count": 2,
   "metadata": {},
   "outputs": [],
   "source": [
    "def monte_carlo(count):\n",
    "    ok = 0\n",
    "    for _ in range(count):\n",
    "        x = random.random()\n",
    "        y = random.random()\n",
    "        if (x * x) + (y * y) <= 1:\n",
    "            ok += 1\n",
    "    return 4 * ok / count"
   ]
  },
  {
   "cell_type": "code",
   "execution_count": 3,
   "metadata": {},
   "outputs": [
    {
     "name": "stdout",
     "output_type": "stream",
     "text": [
      "For    100 3.4\n",
      "For   1000 3.068\n",
      "For  10000 3.148\n",
      "For 100000 3.14652\n"
     ]
    }
   ],
   "source": [
    "print('For    100 {0}' .format(monte_carlo(100)))\n",
    "print('For   1000 {0}' .format(monte_carlo(1000)))\n",
    "print('For  10000 {0}' .format(monte_carlo(10000)))\n",
    "print('For 100000 {0}' .format(monte_carlo(100000)))"
   ]
  },
  {
   "cell_type": "code",
   "execution_count": null,
   "metadata": {},
   "outputs": [],
   "source": []
  }
 ],
 "metadata": {
  "kernelspec": {
   "display_name": "Python 3",
   "language": "python",
   "name": "python3"
  },
  "language_info": {
   "codemirror_mode": {
    "name": "ipython",
    "version": 3
   },
   "file_extension": ".py",
   "mimetype": "text/x-python",
   "name": "python",
   "nbconvert_exporter": "python",
   "pygments_lexer": "ipython3",
   "version": "3.6.8"
  }
 },
 "nbformat": 4,
 "nbformat_minor": 2
}
