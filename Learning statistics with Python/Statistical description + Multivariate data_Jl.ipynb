{
 "cells": [
  {
   "cell_type": "code",
   "execution_count": 1,
   "metadata": {},
   "outputs": [],
   "source": [
    "using CSV"
   ]
  },
  {
   "cell_type": "code",
   "execution_count": 2,
   "metadata": {},
   "outputs": [
    {
     "data": {
      "text/html": [
       "<table class=\"data-frame\"><thead><tr><th></th><th>species</th><th>length</th></tr><tr><th></th><th>String</th><th>Int64</th></tr></thead><tbody><p>6 rows × 2 columns</p><tr><th>1</th><td>A</td><td>2</td></tr><tr><th>2</th><td>A</td><td>3</td></tr><tr><th>3</th><td>A</td><td>4</td></tr><tr><th>4</th><td>B</td><td>6</td></tr><tr><th>5</th><td>B</td><td>8</td></tr><tr><th>6</th><td>B</td><td>10</td></tr></tbody></table>"
      ],
      "text/latex": [
       "\\begin{tabular}{r|cc}\n",
       "\t& species & length\\\\\n",
       "\t\\hline\n",
       "\t& String & Int64\\\\\n",
       "\t\\hline\n",
       "\t1 & A & 2 \\\\\n",
       "\t2 & A & 3 \\\\\n",
       "\t3 & A & 4 \\\\\n",
       "\t4 & B & 6 \\\\\n",
       "\t5 & B & 8 \\\\\n",
       "\t6 & B & 10 \\\\\n",
       "\\end{tabular}\n"
      ],
      "text/plain": [
       "6×2 DataFrames.DataFrame\n",
       "│ Row │ species │ length │\n",
       "│     │ \u001b[90mString\u001b[39m  │ \u001b[90mInt64\u001b[39m  │\n",
       "├─────┼─────────┼────────┤\n",
       "│ 1   │ A       │ 2      │\n",
       "│ 2   │ A       │ 3      │\n",
       "│ 3   │ A       │ 4      │\n",
       "│ 4   │ B       │ 6      │\n",
       "│ 5   │ B       │ 8      │\n",
       "│ 6   │ B       │ 10     │"
      ]
     },
     "execution_count": 2,
     "metadata": {},
     "output_type": "execute_result"
    }
   ],
   "source": [
    "fish_multi = CSV.read(\"3-2-1-fish_multi.csv\")"
   ]
  },
  {
   "cell_type": "code",
   "execution_count": null,
   "metadata": {},
   "outputs": [],
   "source": []
  }
 ],
 "metadata": {
  "kernelspec": {
   "display_name": "Julia 1.1.0",
   "language": "julia",
   "name": "julia-1.1"
  },
  "language_info": {
   "file_extension": ".jl",
   "mimetype": "application/julia",
   "name": "julia",
   "version": "1.1.0"
  }
 },
 "nbformat": 4,
 "nbformat_minor": 2
}
