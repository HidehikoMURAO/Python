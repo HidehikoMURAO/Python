{
 "cells": [
  {
   "cell_type": "markdown",
   "metadata": {},
   "source": [
    "# 1変量データの管理"
   ]
  },
  {
   "cell_type": "markdown",
   "metadata": {},
   "source": [
    "1変量データ：1種類しかないデータ\n",
    "1変量データを扱う場合に，fish_data という変数に10個のデータを格納しています．"
   ]
  },
  {
   "cell_type": "code",
   "execution_count": 1,
   "metadata": {},
   "outputs": [
    {
     "data": {
      "text/plain": [
       "10-element Array{Int64,1}:\n",
       " 2\n",
       " 3\n",
       " 3\n",
       " 4\n",
       " 4\n",
       " 4\n",
       " 4\n",
       " 5\n",
       " 5\n",
       " 6"
      ]
     },
     "execution_count": 1,
     "metadata": {},
     "output_type": "execute_result"
    }
   ],
   "source": [
    "fish_data = [2, 3, 3, 4, 4, 4, 4, 5, 5, 6]\n",
    "fish_data"
   ]
  },
  {
   "cell_type": "markdown",
   "metadata": {},
   "source": [
    "合計値を計算する場合にはsum関数を用います．"
   ]
  },
  {
   "cell_type": "code",
   "execution_count": 2,
   "metadata": {},
   "outputs": [
    {
     "data": {
      "text/plain": [
       "40"
      ]
     },
     "execution_count": 2,
     "metadata": {},
     "output_type": "execute_result"
    }
   ],
   "source": [
    "sum(fish_data)"
   ]
  },
  {
   "cell_type": "markdown",
   "metadata": {},
   "source": [
    "サンプルサイズ（要素数）を求めるにはlength関数を用います．"
   ]
  },
  {
   "cell_type": "code",
   "execution_count": 3,
   "metadata": {},
   "outputs": [
    {
     "data": {
      "text/plain": [
       "10"
      ]
     },
     "execution_count": 3,
     "metadata": {},
     "output_type": "execute_result"
    }
   ],
   "source": [
    "length(fish_data)"
   ]
  },
  {
   "cell_type": "markdown",
   "metadata": {},
   "source": [
    "# 平均値（期待値）"
   ]
  },
  {
   "cell_type": "markdown",
   "metadata": {},
   "source": [
    "平均値（期待値）の計算式は以下のようになります．\n",
    "\n",
    "$\\mu = \\cfrac{1}{N} \\sum_{i = 1}^{N} x_{i}$"
   ]
  },
  {
   "cell_type": "code",
   "execution_count": 4,
   "metadata": {},
   "outputs": [
    {
     "data": {
      "text/plain": [
       "4.0"
      ]
     },
     "execution_count": 4,
     "metadata": {},
     "output_type": "execute_result"
    }
   ],
   "source": [
    "N = length(fish_data)\n",
    "sum_value = sum(fish_data)\n",
    "mu = sum_value / N\n",
    "mu"
   ]
  },
  {
   "cell_type": "markdown",
   "metadata": {},
   "source": [
    "Statisticsのmean関数を使うと平均値を簡単に計算できます．"
   ]
  },
  {
   "cell_type": "code",
   "execution_count": 5,
   "metadata": {},
   "outputs": [
    {
     "data": {
      "text/plain": [
       "4.0"
      ]
     },
     "execution_count": 5,
     "metadata": {},
     "output_type": "execute_result"
    }
   ],
   "source": [
    "using Statistics\n",
    "mu = mean(fish_data)"
   ]
  },
  {
   "cell_type": "markdown",
   "metadata": {},
   "source": [
    "# 標本分散"
   ]
  },
  {
   "cell_type": "markdown",
   "metadata": {},
   "source": [
    "分散はデータが平均値からどれだけ離れているかを表す指標です．\n",
    "\n",
    "計算式は以下のようになります．\n",
    "\n",
    "$\\sigma^{2} = \\cfrac{1}{N} \\sum_{i = 1}^{N} ( x_{i} - \\mu)^{2}$"
   ]
  },
  {
   "cell_type": "code",
   "execution_count": 6,
   "metadata": {},
   "outputs": [
    {
     "data": {
      "text/plain": [
       "12.0"
      ]
     },
     "execution_count": 6,
     "metadata": {},
     "output_type": "execute_result"
    }
   ],
   "source": [
    "fish_data = [2, 3, 3, 4, 4, 4, 4, 5, 5, 6]\n",
    "mu = mean(fish_data)\n",
    "N = length(fish_data)\n",
    "\n",
    "sigma_2_sample = 0\n",
    "for i = fish_data\n",
    "    sigma_2_sample += (i - mu)^2\n",
    "end\n",
    "\n",
    "sigma_2_sample"
   ]
  },
  {
   "cell_type": "code",
   "execution_count": 7,
   "metadata": {},
   "outputs": [
    {
     "data": {
      "text/plain": [
       "1.2"
      ]
     },
     "execution_count": 7,
     "metadata": {},
     "output_type": "execute_result"
    }
   ],
   "source": [
    "sample_variance = sigma_2_sample / N"
   ]
  },
  {
   "cell_type": "markdown",
   "metadata": {},
   "source": [
    "# 不偏分散"
   ]
  },
  {
   "cell_type": "markdown",
   "metadata": {},
   "source": [
    "標本分散は，標本平均を使ってさらに分散を計算した値です．この値は分散を過小に見積もってしまうというバイアスがあるので，このバイアスをなくしたものが不偏分散です．不偏分散の計算式は以下のようになります．\n",
    "\n",
    "$\\sigma^{2} = \\cfrac{1}{N-1} \\sum_{i = 1}^{N} ( x_{I} - \\mu)^{2}$"
   ]
  },
  {
   "cell_type": "code",
   "execution_count": 8,
   "metadata": {},
   "outputs": [
    {
     "data": {
      "text/plain": [
       "1.3333333333333333"
      ]
     },
     "execution_count": 8,
     "metadata": {},
     "output_type": "execute_result"
    }
   ],
   "source": [
    "unbiased_dispersion = sigma_2_sample / (N - 1)"
   ]
  },
  {
   "cell_type": "markdown",
   "metadata": {},
   "source": [
    "# 標準偏差"
   ]
  },
  {
   "cell_type": "markdown",
   "metadata": {},
   "source": [
    "分散の平方根を取ったものが標準偏差です．不偏分散を用いた標準偏差の計算式は以下のようになります．\n",
    "\n",
    "$\\sigma = \\sqrt{ \\sigma^{2}} = \\sqrt{\\cfrac{1}{N-1} \\sum_{i = 1}^{N} (x_{i} - \\mu)^{2}}$"
   ]
  },
  {
   "cell_type": "code",
   "execution_count": 9,
   "metadata": {},
   "outputs": [
    {
     "data": {
      "text/plain": [
       "1.1547005383792515"
      ]
     },
     "execution_count": 9,
     "metadata": {},
     "output_type": "execute_result"
    }
   ],
   "source": [
    "sigma = sqrt(unbiased_dispersion)"
   ]
  },
  {
   "cell_type": "code",
   "execution_count": 10,
   "metadata": {},
   "outputs": [
    {
     "data": {
      "text/plain": [
       "1.1547005383792515"
      ]
     },
     "execution_count": 10,
     "metadata": {},
     "output_type": "execute_result"
    }
   ],
   "source": [
    "sigma = sqrt(sigma_2_sample / (N - 1))"
   ]
  },
  {
   "cell_type": "markdown",
   "metadata": {},
   "source": [
    "# 標準化"
   ]
  },
  {
   "cell_type": "markdown",
   "metadata": {},
   "source": [
    "標準化：データの平均を0に，標準偏差を1に変換すること\n",
    "\n",
    "平均値は，大きな変数，もしくは小さな変数が入り混じっていると特徴が掴みにくいため，標準化してからデータを比較することがあります．\n",
    "\n",
    "データの平均値を0にするには，全てのデータから一律に平均値を引けば良いことになります．"
   ]
  },
  {
   "cell_type": "code",
   "execution_count": 11,
   "metadata": {},
   "outputs": [
    {
     "data": {
      "text/plain": [
       "0.0"
      ]
     },
     "execution_count": 11,
     "metadata": {},
     "output_type": "execute_result"
    }
   ],
   "source": [
    "fish_data = [2, 3, 3, 4, 4, 4, 4, 5, 5, 6]\n",
    "mu = mean(fish_data)\n",
    "\n",
    "standardized_average = 0\n",
    "for i = fish_data\n",
    "    standardized_average += (i - mu)\n",
    "end\n",
    "\n",
    "standardized_average"
   ]
  },
  {
   "cell_type": "markdown",
   "metadata": {},
   "source": [
    "Julia で配列の各要素に対して一律の計算する方法は現在調べている最中"
   ]
  },
  {
   "cell_type": "code",
   "execution_count": 12,
   "metadata": {},
   "outputs": [
    {
     "data": {
      "text/plain": [
       "0"
      ]
     },
     "execution_count": 12,
     "metadata": {},
     "output_type": "execute_result"
    }
   ],
   "source": [
    "fish_data = [2, 3, 3, 4, 4, 4, 4, 5, 5, 6]\n",
    "mu_data = fill(mu, 10, 1)\n",
    "\n",
    "standardized_fish_data = fish_data - mu_data\n",
    "\n",
    "standardized_average2 = 0\n",
    "for i = standardized_fish_data\n",
    "    standardized_average += (i)\n",
    "end\n",
    "\n",
    "standardized_average2"
   ]
  },
  {
   "cell_type": "code",
   "execution_count": null,
   "metadata": {},
   "outputs": [],
   "source": []
  },
  {
   "cell_type": "markdown",
   "metadata": {},
   "source": [
    "# その他の統計量"
   ]
  },
  {
   "cell_type": "markdown",
   "metadata": {},
   "source": [
    "最大値"
   ]
  },
  {
   "cell_type": "code",
   "execution_count": 13,
   "metadata": {},
   "outputs": [
    {
     "data": {
      "text/plain": [
       "6"
      ]
     },
     "execution_count": 13,
     "metadata": {},
     "output_type": "execute_result"
    }
   ],
   "source": [
    "fish_data = [2, 3, 3, 4, 4, 4, 4, 5, 5, 6]\n",
    "maximum(fish_data)"
   ]
  },
  {
   "cell_type": "markdown",
   "metadata": {},
   "source": [
    "最小値"
   ]
  },
  {
   "cell_type": "code",
   "execution_count": 14,
   "metadata": {},
   "outputs": [
    {
     "data": {
      "text/plain": [
       "2"
      ]
     },
     "execution_count": 14,
     "metadata": {},
     "output_type": "execute_result"
    }
   ],
   "source": [
    "minimum(fish_data)"
   ]
  },
  {
   "cell_type": "markdown",
   "metadata": {},
   "source": [
    "中央値"
   ]
  },
  {
   "cell_type": "code",
   "execution_count": 15,
   "metadata": {},
   "outputs": [
    {
     "data": {
      "text/plain": [
       "4.0"
      ]
     },
     "execution_count": 15,
     "metadata": {},
     "output_type": "execute_result"
    }
   ],
   "source": [
    "median(fish_data)"
   ]
  },
  {
   "cell_type": "code",
   "execution_count": null,
   "metadata": {},
   "outputs": [],
   "source": []
  }
 ],
 "metadata": {
  "@webio": {
   "lastCommId": null,
   "lastKernelId": null
  },
  "kernelspec": {
   "display_name": "Julia 1.1.0",
   "language": "julia",
   "name": "julia-1.1"
  },
  "language_info": {
   "file_extension": ".jl",
   "mimetype": "application/julia",
   "name": "julia",
   "version": "1.1.0"
  }
 },
 "nbformat": 4,
 "nbformat_minor": 2
}
