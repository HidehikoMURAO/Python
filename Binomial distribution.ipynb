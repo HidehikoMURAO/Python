{
 "cells": [
  {
   "cell_type": "code",
   "execution_count": 1,
   "metadata": {},
   "outputs": [],
   "source": [
    "# Importing `comb` from scipy.misc is deprecated in scipy 1.0.0. Use `scipy.special.comb` instead.\n",
    "from scipy.special import comb   # function to calculate combinations\n",
    "import numpy as np\n",
    "import pandas as pd              # for Series\n",
    "import matplotlib.pyplot as plt  # for plotting graph\n",
    "import pylab                     # for change graph size"
   ]
  },
  {
   "cell_type": "code",
   "execution_count": 2,
   "metadata": {},
   "outputs": [],
   "source": [
    "n = 50    # number of trials\n",
    "p = 0.5   # the probability of an event occurring"
   ]
  },
  {
   "cell_type": "code",
   "execution_count": 3,
   "metadata": {},
   "outputs": [],
   "source": [
    "xlist = pd.Series([comb(float(n), x) * p ** x * (1 - p) ** (float(n) - x) \\\n",
    "                   for x in range(0, n+1)])"
   ]
  },
  {
   "cell_type": "code",
   "execution_count": 4,
   "metadata": {},
   "outputs": [
    {
     "data": {
      "text/plain": [
       "([<matplotlib.axis.XTick at 0x1177e6f98>,\n",
       "  <matplotlib.axis.XTick at 0x1177e6978>,\n",
       "  <matplotlib.axis.XTick at 0x1177e66a0>,\n",
       "  <matplotlib.axis.XTick at 0x117898780>,\n",
       "  <matplotlib.axis.XTick at 0x117898be0>,\n",
       "  <matplotlib.axis.XTick at 0x1178a8160>],\n",
       " <a list of 6 Text xticklabel objects>)"
      ]
     },
     "execution_count": 4,
     "metadata": {},
     "output_type": "execute_result"
    },
    {
     "data": {
      "image/png": "[encoded data removed]",
      "text/plain": [
       "<Figure size 720x360 with 1 Axes>"
      ]
     },
     "metadata": {
      "needs_background": "light"
     },
     "output_type": "display_data"
    }
   ],
   "source": [
    "pylab.figure(figsize = (10, 5))    # specify graph size\n",
    "plt.bar(xlist.index, xlist)\n",
    "plt.xlim(0, 50)                    # set the range of X axis values.\n",
    "plt.xticks(np.arange(0, n+1, 10))  # specify the scale of the X axis in 10 steps."
   ]
  },
  {
   "cell_type": "code",
   "execution_count": null,
   "metadata": {},
   "outputs": [],
   "source": []
  }
 ],
 "metadata": {
  "kernelspec": {
   "display_name": "Python 3",
   "language": "python",
   "name": "python3"
  },
  "language_info": {
   "codemirror_mode": {
    "name": "ipython",
    "version": 3
   },
   "file_extension": ".py",
   "mimetype": "text/x-python",
   "name": "python",
   "nbconvert_exporter": "python",
   "pygments_lexer": "ipython3",
   "version": "3.7.3"
  }
 },
 "nbformat": 4,
 "nbformat_minor": 2
}
